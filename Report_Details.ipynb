{
  "nbformat": 4,
  "nbformat_minor": 0,
  "metadata": {
    "colab": {
      "name": "Report Details.ipynb",
      "provenance": [],
      "authorship_tag": "ABX9TyOBC8e3Bm4DkO0pA8eyb91x",
      "include_colab_link": true
    },
    "kernelspec": {
      "name": "python3",
      "display_name": "Python 3"
    },
    "language_info": {
      "name": "python"
    }
  },
  "cells": [
    {
      "cell_type": "markdown",
      "metadata": {
        "id": "view-in-github",
        "colab_type": "text"
      },
      "source": [
        "<a href=\"https://colab.research.google.com/github/PrudhviRaj163/rinex4/blob/main/Report_Details.ipynb\" target=\"_parent\"><img src=\"https://colab.research.google.com/assets/colab-badge.svg\" alt=\"Open In Colab\"/></a>"
      ]
    },
    {
      "cell_type": "code",
      "execution_count": null,
      "metadata": {
        "id": "37UkC1t5FLu7"
      },
      "outputs": [],
      "source": [
        "#\n",
        "# NAME---KALAKONDA PRUDHVI RAJ\n",
        "#COLLEGE ---NATIONAL INSTITUTE OF TECHNOLOGY ANDHRAPRADESH\n",
        "#YEAR --2020-2024\n",
        "#"
      ]
    }
  ]
}